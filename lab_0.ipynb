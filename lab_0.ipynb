{
  "nbformat": 4,
  "nbformat_minor": 0,
  "metadata": {
    "colab": {
      "provenance": [],
      "authorship_tag": "ABX9TyMaK3/vEVJcKXf4cXph2v3Z",
      "include_colab_link": true
    },
    "kernelspec": {
      "name": "python3",
      "display_name": "Python 3"
    },
    "language_info": {
      "name": "python"
    }
  },
  "cells": [
    {
      "cell_type": "markdown",
      "metadata": {
        "id": "view-in-github",
        "colab_type": "text"
      },
      "source": [
        "<a href=\"https://colab.research.google.com/github/kaisarmasum/IBM-Quantum-Challenge-2024/blob/main/lab_0.ipynb\" target=\"_parent\"><img src=\"https://colab.research.google.com/assets/colab-badge.svg\" alt=\"Open In Colab\"/></a>"
      ]
    },
    {
      "cell_type": "code",
      "execution_count": null,
      "metadata": {
        "colab": {
          "base_uri": "https://localhost:8080/"
        },
        "id": "Moj3uyrPNtul",
        "outputId": "e4e8f966-4362-40a1-b97b-e5cf353eada3"
      },
      "outputs": [
        {
          "output_type": "stream",
          "name": "stdout",
          "text": [
            "Collecting qiskit[visualization]==1.0.2\n",
            "  Downloading qiskit-1.0.2-cp38-abi3-manylinux_2_17_x86_64.manylinux2014_x86_64.whl (5.6 MB)\n",
            "\u001b[2K     \u001b[90m━━━━━━━━━━━━━━━━━━━━━━━━━━━━━━━━━━━━━━━━\u001b[0m \u001b[32m5.6/5.6 MB\u001b[0m \u001b[31m15.4 MB/s\u001b[0m eta \u001b[36m0:00:00\u001b[0m\n",
            "\u001b[?25hCollecting rustworkx>=0.14.0 (from qiskit[visualization]==1.0.2)\n",
            "  Downloading rustworkx-0.14.2-cp310-cp310-manylinux_2_17_x86_64.manylinux2014_x86_64.whl (2.1 MB)\n",
            "\u001b[2K     \u001b[90m━━━━━━━━━━━━━━━━━━━━━━━━━━━━━━━━━━━━━━━━\u001b[0m \u001b[32m2.1/2.1 MB\u001b[0m \u001b[31m20.6 MB/s\u001b[0m eta \u001b[36m0:00:00\u001b[0m\n",
            "\u001b[?25hRequirement already satisfied: numpy<2,>=1.17 in /usr/local/lib/python3.10/dist-packages (from qiskit[visualization]==1.0.2) (1.25.2)\n",
            "Requirement already satisfied: scipy>=1.5 in /usr/local/lib/python3.10/dist-packages (from qiskit[visualization]==1.0.2) (1.11.4)\n",
            "Requirement already satisfied: sympy>=1.3 in /usr/local/lib/python3.10/dist-packages (from qiskit[visualization]==1.0.2) (1.12.1)\n",
            "Collecting dill>=0.3 (from qiskit[visualization]==1.0.2)\n",
            "  Downloading dill-0.3.8-py3-none-any.whl (116 kB)\n",
            "\u001b[2K     \u001b[90m━━━━━━━━━━━━━━━━━━━━━━━━━━━━━━━━━━━━━━━━\u001b[0m \u001b[32m116.3/116.3 kB\u001b[0m \u001b[31m6.6 MB/s\u001b[0m eta \u001b[36m0:00:00\u001b[0m\n",
            "\u001b[?25hRequirement already satisfied: python-dateutil>=2.8.0 in /usr/local/lib/python3.10/dist-packages (from qiskit[visualization]==1.0.2) (2.8.2)\n",
            "Collecting stevedore>=3.0.0 (from qiskit[visualization]==1.0.2)\n",
            "  Downloading stevedore-5.2.0-py3-none-any.whl (49 kB)\n",
            "\u001b[2K     \u001b[90m━━━━━━━━━━━━━━━━━━━━━━━━━━━━━━━━━━━━━━━━\u001b[0m \u001b[32m49.7/49.7 kB\u001b[0m \u001b[31m2.1 MB/s\u001b[0m eta \u001b[36m0:00:00\u001b[0m\n",
            "\u001b[?25hRequirement already satisfied: typing-extensions in /usr/local/lib/python3.10/dist-packages (from qiskit[visualization]==1.0.2) (4.12.1)\n",
            "Collecting symengine>=0.11 (from qiskit[visualization]==1.0.2)\n",
            "  Downloading symengine-0.11.0-cp310-cp310-manylinux_2_12_x86_64.manylinux2010_x86_64.whl (39.4 MB)\n",
            "\u001b[2K     \u001b[90m━━━━━━━━━━━━━━━━━━━━━━━━━━━━━━━━━━━━━━━━\u001b[0m \u001b[32m39.4/39.4 MB\u001b[0m \u001b[31m10.0 MB/s\u001b[0m eta \u001b[36m0:00:00\u001b[0m\n",
            "\u001b[?25hRequirement already satisfied: matplotlib>=3.3 in /usr/local/lib/python3.10/dist-packages (from qiskit[visualization]==1.0.2) (3.7.1)\n",
            "Requirement already satisfied: pydot in /usr/local/lib/python3.10/dist-packages (from qiskit[visualization]==1.0.2) (1.4.2)\n",
            "Requirement already satisfied: Pillow>=4.2.1 in /usr/local/lib/python3.10/dist-packages (from qiskit[visualization]==1.0.2) (9.4.0)\n",
            "Collecting pylatexenc>=1.4 (from qiskit[visualization]==1.0.2)\n",
            "  Downloading pylatexenc-2.10.tar.gz (162 kB)\n",
            "\u001b[2K     \u001b[90m━━━━━━━━━━━━━━━━━━━━━━━━━━━━━━━━━━━━━━━━\u001b[0m \u001b[32m162.6/162.6 kB\u001b[0m \u001b[31m15.1 MB/s\u001b[0m eta \u001b[36m0:00:00\u001b[0m\n",
            "\u001b[?25h  Preparing metadata (setup.py) ... \u001b[?25l\u001b[?25hdone\n",
            "Requirement already satisfied: seaborn>=0.9.0 in /usr/local/lib/python3.10/dist-packages (from qiskit[visualization]==1.0.2) (0.13.1)\n",
            "Requirement already satisfied: contourpy>=1.0.1 in /usr/local/lib/python3.10/dist-packages (from matplotlib>=3.3->qiskit[visualization]==1.0.2) (1.2.1)\n",
            "Requirement already satisfied: cycler>=0.10 in /usr/local/lib/python3.10/dist-packages (from matplotlib>=3.3->qiskit[visualization]==1.0.2) (0.12.1)\n",
            "Requirement already satisfied: fonttools>=4.22.0 in /usr/local/lib/python3.10/dist-packages (from matplotlib>=3.3->qiskit[visualization]==1.0.2) (4.53.0)\n",
            "Requirement already satisfied: kiwisolver>=1.0.1 in /usr/local/lib/python3.10/dist-packages (from matplotlib>=3.3->qiskit[visualization]==1.0.2) (1.4.5)\n",
            "Requirement already satisfied: packaging>=20.0 in /usr/local/lib/python3.10/dist-packages (from matplotlib>=3.3->qiskit[visualization]==1.0.2) (24.0)\n",
            "Requirement already satisfied: pyparsing>=2.3.1 in /usr/local/lib/python3.10/dist-packages (from matplotlib>=3.3->qiskit[visualization]==1.0.2) (3.1.2)\n",
            "Requirement already satisfied: six>=1.5 in /usr/local/lib/python3.10/dist-packages (from python-dateutil>=2.8.0->qiskit[visualization]==1.0.2) (1.16.0)\n",
            "Requirement already satisfied: pandas>=1.2 in /usr/local/lib/python3.10/dist-packages (from seaborn>=0.9.0->qiskit[visualization]==1.0.2) (2.0.3)\n",
            "Collecting pbr!=2.1.0,>=2.0.0 (from stevedore>=3.0.0->qiskit[visualization]==1.0.2)\n",
            "  Downloading pbr-6.0.0-py2.py3-none-any.whl (107 kB)\n",
            "\u001b[2K     \u001b[90m━━━━━━━━━━━━━━━━━━━━━━━━━━━━━━━━━━━━━━━━\u001b[0m \u001b[32m107.5/107.5 kB\u001b[0m \u001b[31m7.5 MB/s\u001b[0m eta \u001b[36m0:00:00\u001b[0m\n",
            "\u001b[?25hRequirement already satisfied: mpmath<1.4.0,>=1.1.0 in /usr/local/lib/python3.10/dist-packages (from sympy>=1.3->qiskit[visualization]==1.0.2) (1.3.0)\n",
            "Requirement already satisfied: pytz>=2020.1 in /usr/local/lib/python3.10/dist-packages (from pandas>=1.2->seaborn>=0.9.0->qiskit[visualization]==1.0.2) (2023.4)\n",
            "Requirement already satisfied: tzdata>=2022.1 in /usr/local/lib/python3.10/dist-packages (from pandas>=1.2->seaborn>=0.9.0->qiskit[visualization]==1.0.2) (2024.1)\n",
            "Building wheels for collected packages: pylatexenc\n",
            "  Building wheel for pylatexenc (setup.py) ... \u001b[?25l\u001b[?25hdone\n",
            "  Created wheel for pylatexenc: filename=pylatexenc-2.10-py3-none-any.whl size=136816 sha256=89b3083155f6b209d91d80feafccc1dd262933116948ef5c00353acec2159f1f\n",
            "  Stored in directory: /root/.cache/pip/wheels/d3/31/8b/e09b0386afd80cfc556c00408c9aeea5c35c4d484a9c762fd5\n",
            "Successfully built pylatexenc\n",
            "Installing collected packages: pylatexenc, symengine, rustworkx, pbr, dill, stevedore, qiskit\n",
            "Successfully installed dill-0.3.8 pbr-6.0.0 pylatexenc-2.10 qiskit-1.0.2 rustworkx-0.14.2 stevedore-5.2.0 symengine-0.11.0\n"
          ]
        }
      ],
      "source": [
        "!pip install qiskit[visualization]==1.0.2"
      ]
    },
    {
      "cell_type": "code",
      "source": [
        "from qiskit import QuantumCircuit\n",
        "\n",
        "# Create a new circuit with a single qubit\n",
        "qc = QuantumCircuit(1)\n",
        "\n",
        "# Add a Not gate to qubit 0\n",
        "qc.x(0)\n",
        "\n",
        "# Return a drawing of the circuit using MatPlotLib (\"mpl\"). This is the\n",
        "# last line of the cell, so the drawing appears in the cell output.\n",
        "qc.draw(\"mpl\")"
      ],
      "metadata": {
        "colab": {
          "base_uri": "https://localhost:8080/",
          "height": 127
        },
        "id": "4U8nEf3-N14W",
        "outputId": "6cbf6af8-1122-47c5-88bd-778cf95c3940"
      },
      "execution_count": null,
      "outputs": [
        {
          "output_type": "execute_result",
          "data": {
            "text/plain": [
              "<Figure size 185.453x117.056 with 1 Axes>"
            ],
            "image/png": "[encoded data removed]"
          },
          "metadata": {},
          "execution_count": 2
        }
      ]
    },
    {
      "cell_type": "code",
      "source": [
        "### Install the other required packages as well\n",
        "\n",
        "!pip install qiskit_aer\n",
        "!pip install qiskit_ibm_runtime\n",
        "!pip install matplotlib\n",
        "!pip install pylatexenc\n",
        "!pip install prototype-zne\n",
        "!pip install git+https://github.com/qiskit-community/Quantum-Challenge-Grader.git"
      ],
      "metadata": {
        "colab": {
          "base_uri": "https://localhost:8080/"
        },
        "id": "9E6SfNb2OFYQ",
        "outputId": "a656d08e-569f-42c0-815b-f5a3374ae306"
      },
      "execution_count": null,
      "outputs": [
        {
          "output_type": "stream",
          "name": "stdout",
          "text": [
            "Collecting qiskit_aer\n",
            "  Downloading qiskit_aer-0.14.2-cp310-cp310-manylinux_2_17_x86_64.manylinux2014_x86_64.whl (12.4 MB)\n",
            "\u001b[2K     \u001b[90m━━━━━━━━━━━━━━━━━━━━━━━━━━━━━━━━━━━━━━━━\u001b[0m \u001b[32m12.4/12.4 MB\u001b[0m \u001b[31m51.9 MB/s\u001b[0m eta \u001b[36m0:00:00\u001b[0m\n",
            "\u001b[?25hRequirement already satisfied: qiskit>=0.45.2 in /usr/local/lib/python3.10/dist-packages (from qiskit_aer) (1.0.2)\n",
            "Requirement already satisfied: numpy>=1.16.3 in /usr/local/lib/python3.10/dist-packages (from qiskit_aer) (1.25.2)\n",
            "Requirement already satisfied: scipy>=1.0 in /usr/local/lib/python3.10/dist-packages (from qiskit_aer) (1.11.4)\n",
            "Requirement already satisfied: psutil>=5 in /usr/local/lib/python3.10/dist-packages (from qiskit_aer) (5.9.5)\n",
            "Requirement already satisfied: rustworkx>=0.14.0 in /usr/local/lib/python3.10/dist-packages (from qiskit>=0.45.2->qiskit_aer) (0.14.2)\n",
            "Requirement already satisfied: sympy>=1.3 in /usr/local/lib/python3.10/dist-packages (from qiskit>=0.45.2->qiskit_aer) (1.12.1)\n",
            "Requirement already satisfied: dill>=0.3 in /usr/local/lib/python3.10/dist-packages (from qiskit>=0.45.2->qiskit_aer) (0.3.8)\n",
            "Requirement already satisfied: python-dateutil>=2.8.0 in /usr/local/lib/python3.10/dist-packages (from qiskit>=0.45.2->qiskit_aer) (2.8.2)\n",
            "Requirement already satisfied: stevedore>=3.0.0 in /usr/local/lib/python3.10/dist-packages (from qiskit>=0.45.2->qiskit_aer) (5.2.0)\n",
            "Requirement already satisfied: typing-extensions in /usr/local/lib/python3.10/dist-packages (from qiskit>=0.45.2->qiskit_aer) (4.12.1)\n",
            "Requirement already satisfied: symengine>=0.11 in /usr/local/lib/python3.10/dist-packages (from qiskit>=0.45.2->qiskit_aer) (0.11.0)\n",
            "Requirement already satisfied: six>=1.5 in /usr/local/lib/python3.10/dist-packages (from python-dateutil>=2.8.0->qiskit>=0.45.2->qiskit_aer) (1.16.0)\n",
            "Requirement already satisfied: pbr!=2.1.0,>=2.0.0 in /usr/local/lib/python3.10/dist-packages (from stevedore>=3.0.0->qiskit>=0.45.2->qiskit_aer) (6.0.0)\n",
            "Requirement already satisfied: mpmath<1.4.0,>=1.1.0 in /usr/local/lib/python3.10/dist-packages (from sympy>=1.3->qiskit>=0.45.2->qiskit_aer) (1.3.0)\n",
            "Installing collected packages: qiskit_aer\n",
            "Successfully installed qiskit_aer-0.14.2\n",
            "Collecting qiskit_ibm_runtime\n",
            "  Downloading qiskit_ibm_runtime-0.23.0-py3-none-any.whl (3.0 MB)\n",
            "\u001b[2K     \u001b[90m━━━━━━━━━━━━━━━━━━━━━━━━━━━━━━━━━━━━━━━━\u001b[0m \u001b[32m3.0/3.0 MB\u001b[0m \u001b[31m10.5 MB/s\u001b[0m eta \u001b[36m0:00:00\u001b[0m\n",
            "\u001b[?25hRequirement already satisfied: requests>=2.19 in /usr/local/lib/python3.10/dist-packages (from qiskit_ibm_runtime) (2.31.0)\n",
            "Collecting requests-ntlm>=1.1.0 (from qiskit_ibm_runtime)\n",
            "  Downloading requests_ntlm-1.2.0-py3-none-any.whl (6.0 kB)\n",
            "Requirement already satisfied: numpy>=1.13 in /usr/local/lib/python3.10/dist-packages (from qiskit_ibm_runtime) (1.25.2)\n",
            "Requirement already satisfied: urllib3>=1.21.1 in /usr/local/lib/python3.10/dist-packages (from qiskit_ibm_runtime) (2.0.7)\n",
            "Requirement already satisfied: python-dateutil>=2.8.0 in /usr/local/lib/python3.10/dist-packages (from qiskit_ibm_runtime) (2.8.2)\n",
            "Requirement already satisfied: websocket-client>=1.5.1 in /usr/local/lib/python3.10/dist-packages (from qiskit_ibm_runtime) (1.8.0)\n",
            "Collecting ibm-platform-services>=0.22.6 (from qiskit_ibm_runtime)\n",
            "  Downloading ibm-platform-services-0.53.7.tar.gz (323 kB)\n",
            "\u001b[2K     \u001b[90m━━━━━━━━━━━━━━━━━━━━━━━━━━━━━━━━━━━━━━━━\u001b[0m \u001b[32m323.9/323.9 kB\u001b[0m \u001b[31m33.9 MB/s\u001b[0m eta \u001b[36m0:00:00\u001b[0m\n",
            "\u001b[?25h  Installing build dependencies ... \u001b[?25l\u001b[?25hdone\n",
            "  Getting requirements to build wheel ... \u001b[?25l\u001b[?25hdone\n",
            "  Preparing metadata (pyproject.toml) ... \u001b[?25l\u001b[?25hdone\n",
            "Requirement already satisfied: pydantic in /usr/local/lib/python3.10/dist-packages (from qiskit_ibm_runtime) (2.7.3)\n",
            "Requirement already satisfied: qiskit>=1.0.0 in /usr/local/lib/python3.10/dist-packages (from qiskit_ibm_runtime) (1.0.2)\n",
            "Collecting ibm-cloud-sdk-core<4.0.0,>=3.19.2 (from ibm-platform-services>=0.22.6->qiskit_ibm_runtime)\n",
            "  Downloading ibm-cloud-sdk-core-3.20.1.tar.gz (62 kB)\n",
            "\u001b[2K     \u001b[90m━━━━━━━━━━━━━━━━━━━━━━━━━━━━━━━━━━━━━━━━\u001b[0m \u001b[32m62.1/62.1 kB\u001b[0m \u001b[31m7.0 MB/s\u001b[0m eta \u001b[36m0:00:00\u001b[0m\n",
            "\u001b[?25h  Installing build dependencies ... \u001b[?25l\u001b[?25hdone\n",
            "  Getting requirements to build wheel ... \u001b[?25l\u001b[?25hdone\n",
            "  Preparing metadata (pyproject.toml) ... \u001b[?25l\u001b[?25hdone\n",
            "Requirement already satisfied: six>=1.5 in /usr/local/lib/python3.10/dist-packages (from python-dateutil>=2.8.0->qiskit_ibm_runtime) (1.16.0)\n",
            "Requirement already satisfied: rustworkx>=0.14.0 in /usr/local/lib/python3.10/dist-packages (from qiskit>=1.0.0->qiskit_ibm_runtime) (0.14.2)\n",
            "Requirement already satisfied: scipy>=1.5 in /usr/local/lib/python3.10/dist-packages (from qiskit>=1.0.0->qiskit_ibm_runtime) (1.11.4)\n",
            "Requirement already satisfied: sympy>=1.3 in /usr/local/lib/python3.10/dist-packages (from qiskit>=1.0.0->qiskit_ibm_runtime) (1.12.1)\n",
            "Requirement already satisfied: dill>=0.3 in /usr/local/lib/python3.10/dist-packages (from qiskit>=1.0.0->qiskit_ibm_runtime) (0.3.8)\n",
            "Requirement already satisfied: stevedore>=3.0.0 in /usr/local/lib/python3.10/dist-packages (from qiskit>=1.0.0->qiskit_ibm_runtime) (5.2.0)\n",
            "Requirement already satisfied: typing-extensions in /usr/local/lib/python3.10/dist-packages (from qiskit>=1.0.0->qiskit_ibm_runtime) (4.12.1)\n",
            "Requirement already satisfied: symengine>=0.11 in /usr/local/lib/python3.10/dist-packages (from qiskit>=1.0.0->qiskit_ibm_runtime) (0.11.0)\n",
            "Requirement already satisfied: charset-normalizer<4,>=2 in /usr/local/lib/python3.10/dist-packages (from requests>=2.19->qiskit_ibm_runtime) (3.3.2)\n",
            "Requirement already satisfied: idna<4,>=2.5 in /usr/local/lib/python3.10/dist-packages (from requests>=2.19->qiskit_ibm_runtime) (3.7)\n",
            "Requirement already satisfied: certifi>=2017.4.17 in /usr/local/lib/python3.10/dist-packages (from requests>=2.19->qiskit_ibm_runtime) (2024.6.2)\n",
            "Requirement already satisfied: cryptography>=1.3 in /usr/local/lib/python3.10/dist-packages (from requests-ntlm>=1.1.0->qiskit_ibm_runtime) (42.0.7)\n",
            "Collecting pyspnego>=0.1.6 (from requests-ntlm>=1.1.0->qiskit_ibm_runtime)\n",
            "  Downloading pyspnego-0.10.2-py3-none-any.whl (129 kB)\n",
            "\u001b[2K     \u001b[90m━━━━━━━━━━━━━━━━━━━━━━━━━━━━━━━━━━━━━━━━\u001b[0m \u001b[32m129.9/129.9 kB\u001b[0m \u001b[31m12.7 MB/s\u001b[0m eta \u001b[36m0:00:00\u001b[0m\n",
            "\u001b[?25hRequirement already satisfied: annotated-types>=0.4.0 in /usr/local/lib/python3.10/dist-packages (from pydantic->qiskit_ibm_runtime) (0.7.0)\n",
            "Requirement already satisfied: pydantic-core==2.18.4 in /usr/local/lib/python3.10/dist-packages (from pydantic->qiskit_ibm_runtime) (2.18.4)\n",
            "Requirement already satisfied: cffi>=1.12 in /usr/local/lib/python3.10/dist-packages (from cryptography>=1.3->requests-ntlm>=1.1.0->qiskit_ibm_runtime) (1.16.0)\n",
            "Collecting urllib3>=1.21.1 (from qiskit_ibm_runtime)\n",
            "  Downloading urllib3-2.2.1-py3-none-any.whl (121 kB)\n",
            "\u001b[2K     \u001b[90m━━━━━━━━━━━━━━━━━━━━━━━━━━━━━━━━━━━━━━━━\u001b[0m \u001b[32m121.1/121.1 kB\u001b[0m \u001b[31m16.2 MB/s\u001b[0m eta \u001b[36m0:00:00\u001b[0m\n",
            "\u001b[?25hCollecting PyJWT<3.0.0,>=2.8.0 (from ibm-cloud-sdk-core<4.0.0,>=3.19.2->ibm-platform-services>=0.22.6->qiskit_ibm_runtime)\n",
            "  Downloading PyJWT-2.8.0-py3-none-any.whl (22 kB)\n",
            "Requirement already satisfied: pbr!=2.1.0,>=2.0.0 in /usr/local/lib/python3.10/dist-packages (from stevedore>=3.0.0->qiskit>=1.0.0->qiskit_ibm_runtime) (6.0.0)\n",
            "Requirement already satisfied: mpmath<1.4.0,>=1.1.0 in /usr/local/lib/python3.10/dist-packages (from sympy>=1.3->qiskit>=1.0.0->qiskit_ibm_runtime) (1.3.0)\n",
            "Requirement already satisfied: pycparser in /usr/local/lib/python3.10/dist-packages (from cffi>=1.12->cryptography>=1.3->requests-ntlm>=1.1.0->qiskit_ibm_runtime) (2.22)\n",
            "Building wheels for collected packages: ibm-platform-services, ibm-cloud-sdk-core\n",
            "  Building wheel for ibm-platform-services (pyproject.toml) ... \u001b[?25l\u001b[?25hdone\n",
            "  Created wheel for ibm-platform-services: filename=ibm_platform_services-0.53.7-py3-none-any.whl size=340285 sha256=2acb8b26439f2a4e20ad05264707c3d0f5c945977fd78164be3868a650758791\n",
            "  Stored in directory: /root/.cache/pip/wheels/8e/54/ad/63e8fdae0e85463bc04a21acf5364cff6def892b95dc40f3ed\n",
            "  Building wheel for ibm-cloud-sdk-core (pyproject.toml) ... \u001b[?25l\u001b[?25hdone\n",
            "  Created wheel for ibm-cloud-sdk-core: filename=ibm_cloud_sdk_core-3.20.1-py3-none-any.whl size=101533 sha256=3b0771903ea34a1e47bad984f06f6ae868dac639697a8de49bbf6435e2dfe6ad\n",
            "  Stored in directory: /root/.cache/pip/wheels/b1/80/5b/12af32c69e0bde3322cb9c1809952e8ed9f2a2a39509ee5374\n",
            "Successfully built ibm-platform-services ibm-cloud-sdk-core\n",
            "Installing collected packages: urllib3, PyJWT, pyspnego, ibm-cloud-sdk-core, requests-ntlm, ibm-platform-services, qiskit_ibm_runtime\n",
            "  Attempting uninstall: urllib3\n",
            "    Found existing installation: urllib3 2.0.7\n",
            "    Uninstalling urllib3-2.0.7:\n",
            "      Successfully uninstalled urllib3-2.0.7\n",
            "  Attempting uninstall: PyJWT\n",
            "    Found existing installation: PyJWT 2.3.0\n",
            "    Uninstalling PyJWT-2.3.0:\n",
            "      Successfully uninstalled PyJWT-2.3.0\n",
            "Successfully installed PyJWT-2.8.0 ibm-cloud-sdk-core-3.20.1 ibm-platform-services-0.53.7 pyspnego-0.10.2 qiskit_ibm_runtime-0.23.0 requests-ntlm-1.2.0 urllib3-2.2.1\n",
            "Requirement already satisfied: matplotlib in /usr/local/lib/python3.10/dist-packages (3.7.1)\n",
            "Requirement already satisfied: contourpy>=1.0.1 in /usr/local/lib/python3.10/dist-packages (from matplotlib) (1.2.1)\n",
            "Requirement already satisfied: cycler>=0.10 in /usr/local/lib/python3.10/dist-packages (from matplotlib) (0.12.1)\n",
            "Requirement already satisfied: fonttools>=4.22.0 in /usr/local/lib/python3.10/dist-packages (from matplotlib) (4.53.0)\n",
            "Requirement already satisfied: kiwisolver>=1.0.1 in /usr/local/lib/python3.10/dist-packages (from matplotlib) (1.4.5)\n",
            "Requirement already satisfied: numpy>=1.20 in /usr/local/lib/python3.10/dist-packages (from matplotlib) (1.25.2)\n",
            "Requirement already satisfied: packaging>=20.0 in /usr/local/lib/python3.10/dist-packages (from matplotlib) (24.0)\n",
            "Requirement already satisfied: pillow>=6.2.0 in /usr/local/lib/python3.10/dist-packages (from matplotlib) (9.4.0)\n",
            "Requirement already satisfied: pyparsing>=2.3.1 in /usr/local/lib/python3.10/dist-packages (from matplotlib) (3.1.2)\n",
            "Requirement already satisfied: python-dateutil>=2.7 in /usr/local/lib/python3.10/dist-packages (from matplotlib) (2.8.2)\n",
            "Requirement already satisfied: six>=1.5 in /usr/local/lib/python3.10/dist-packages (from python-dateutil>=2.7->matplotlib) (1.16.0)\n",
            "Requirement already satisfied: pylatexenc in /usr/local/lib/python3.10/dist-packages (2.10)\n",
            "Collecting prototype-zne\n",
            "  Downloading prototype_zne-1.3.1-py3-none-any.whl (56 kB)\n",
            "\u001b[2K     \u001b[90m━━━━━━━━━━━━━━━━━━━━━━━━━━━━━━━━━━━━━━━━\u001b[0m \u001b[32m56.5/56.5 kB\u001b[0m \u001b[31m961.5 kB/s\u001b[0m eta \u001b[36m0:00:00\u001b[0m\n",
            "\u001b[?25hRequirement already satisfied: qiskit>=0.45.1 in /usr/local/lib/python3.10/dist-packages (from prototype-zne) (1.0.2)\n",
            "Requirement already satisfied: rustworkx>=0.14.0 in /usr/local/lib/python3.10/dist-packages (from qiskit>=0.45.1->prototype-zne) (0.14.2)\n",
            "Requirement already satisfied: numpy<2,>=1.17 in /usr/local/lib/python3.10/dist-packages (from qiskit>=0.45.1->prototype-zne) (1.25.2)\n",
            "Requirement already satisfied: scipy>=1.5 in /usr/local/lib/python3.10/dist-packages (from qiskit>=0.45.1->prototype-zne) (1.11.4)\n",
            "Requirement already satisfied: sympy>=1.3 in /usr/local/lib/python3.10/dist-packages (from qiskit>=0.45.1->prototype-zne) (1.12.1)\n",
            "Requirement already satisfied: dill>=0.3 in /usr/local/lib/python3.10/dist-packages (from qiskit>=0.45.1->prototype-zne) (0.3.8)\n",
            "Requirement already satisfied: python-dateutil>=2.8.0 in /usr/local/lib/python3.10/dist-packages (from qiskit>=0.45.1->prototype-zne) (2.8.2)\n",
            "Requirement already satisfied: stevedore>=3.0.0 in /usr/local/lib/python3.10/dist-packages (from qiskit>=0.45.1->prototype-zne) (5.2.0)\n",
            "Requirement already satisfied: typing-extensions in /usr/local/lib/python3.10/dist-packages (from qiskit>=0.45.1->prototype-zne) (4.12.1)\n",
            "Requirement already satisfied: symengine>=0.11 in /usr/local/lib/python3.10/dist-packages (from qiskit>=0.45.1->prototype-zne) (0.11.0)\n",
            "Requirement already satisfied: six>=1.5 in /usr/local/lib/python3.10/dist-packages (from python-dateutil>=2.8.0->qiskit>=0.45.1->prototype-zne) (1.16.0)\n",
            "Requirement already satisfied: pbr!=2.1.0,>=2.0.0 in /usr/local/lib/python3.10/dist-packages (from stevedore>=3.0.0->qiskit>=0.45.1->prototype-zne) (6.0.0)\n",
            "Requirement already satisfied: mpmath<1.4.0,>=1.1.0 in /usr/local/lib/python3.10/dist-packages (from sympy>=1.3->qiskit>=0.45.1->prototype-zne) (1.3.0)\n",
            "Installing collected packages: prototype-zne\n",
            "Successfully installed prototype-zne-1.3.1\n",
            "Collecting git+https://github.com/qiskit-community/Quantum-Challenge-Grader.git\n",
            "  Cloning https://github.com/qiskit-community/Quantum-Challenge-Grader.git to /tmp/pip-req-build-igmhufi1\n",
            "  Running command git clone --filter=blob:none --quiet https://github.com/qiskit-community/Quantum-Challenge-Grader.git /tmp/pip-req-build-igmhufi1\n",
            "  Resolved https://github.com/qiskit-community/Quantum-Challenge-Grader.git to commit 87d951509bdb78ecd3ec2c6f93b548590b3b2d17\n",
            "  Preparing metadata (setup.py) ... \u001b[?25l\u001b[?25hdone\n",
            "Collecting typeguard (from qc-grader==0.18.8)\n",
            "  Downloading typeguard-4.3.0-py3-none-any.whl (35 kB)\n",
            "Collecting jsonpickle==3.0.3 (from qc-grader==0.18.8)\n",
            "  Downloading jsonpickle-3.0.3-py3-none-any.whl (40 kB)\n",
            "\u001b[2K     \u001b[90m━━━━━━━━━━━━━━━━━━━━━━━━━━━━━━━━━━━━━━━━\u001b[0m \u001b[32m40.8/40.8 kB\u001b[0m \u001b[31m852.4 kB/s\u001b[0m eta \u001b[36m0:00:00\u001b[0m\n",
            "\u001b[?25hCollecting ipycytoscape (from qc-grader==0.18.8)\n",
            "  Downloading ipycytoscape-1.3.3-py2.py3-none-any.whl (3.6 MB)\n",
            "\u001b[2K     \u001b[90m━━━━━━━━━━━━━━━━━━━━━━━━━━━━━━━━━━━━━━━━\u001b[0m \u001b[32m3.6/3.6 MB\u001b[0m \u001b[31m18.2 MB/s\u001b[0m eta \u001b[36m0:00:00\u001b[0m\n",
            "\u001b[?25hRequirement already satisfied: plotly in /usr/local/lib/python3.10/dist-packages (from qc-grader==0.18.8) (5.15.0)\n",
            "Collecting networkx==3.2.1 (from qc-grader==0.18.8)\n",
            "  Downloading networkx-3.2.1-py3-none-any.whl (1.6 MB)\n",
            "\u001b[2K     \u001b[90m━━━━━━━━━━━━━━━━━━━━━━━━━━━━━━━━━━━━━━━━\u001b[0m \u001b[32m1.6/1.6 MB\u001b[0m \u001b[31m66.3 MB/s\u001b[0m eta \u001b[36m0:00:00\u001b[0m\n",
            "\u001b[?25hRequirement already satisfied: ipywidgets>=7.6.0 in /usr/local/lib/python3.10/dist-packages (from ipycytoscape->qc-grader==0.18.8) (7.7.1)\n",
            "Collecting spectate>=1.0.0 (from ipycytoscape->qc-grader==0.18.8)\n",
            "  Downloading spectate-1.0.1-py2.py3-none-any.whl (11 kB)\n",
            "Requirement already satisfied: tenacity>=6.2.0 in /usr/local/lib/python3.10/dist-packages (from plotly->qc-grader==0.18.8) (8.3.0)\n",
            "Requirement already satisfied: packaging in /usr/local/lib/python3.10/dist-packages (from plotly->qc-grader==0.18.8) (24.0)\n",
            "Requirement already satisfied: typing-extensions>=4.10.0 in /usr/local/lib/python3.10/dist-packages (from typeguard->qc-grader==0.18.8) (4.12.1)\n",
            "Requirement already satisfied: ipykernel>=4.5.1 in /usr/local/lib/python3.10/dist-packages (from ipywidgets>=7.6.0->ipycytoscape->qc-grader==0.18.8) (5.5.6)\n",
            "Requirement already satisfied: ipython-genutils~=0.2.0 in /usr/local/lib/python3.10/dist-packages (from ipywidgets>=7.6.0->ipycytoscape->qc-grader==0.18.8) (0.2.0)\n",
            "Requirement already satisfied: traitlets>=4.3.1 in /usr/local/lib/python3.10/dist-packages (from ipywidgets>=7.6.0->ipycytoscape->qc-grader==0.18.8) (5.7.1)\n",
            "Requirement already satisfied: widgetsnbextension~=3.6.0 in /usr/local/lib/python3.10/dist-packages (from ipywidgets>=7.6.0->ipycytoscape->qc-grader==0.18.8) (3.6.6)\n",
            "Requirement already satisfied: ipython>=4.0.0 in /usr/local/lib/python3.10/dist-packages (from ipywidgets>=7.6.0->ipycytoscape->qc-grader==0.18.8) (7.34.0)\n",
            "Requirement already satisfied: jupyterlab-widgets>=1.0.0 in /usr/local/lib/python3.10/dist-packages (from ipywidgets>=7.6.0->ipycytoscape->qc-grader==0.18.8) (3.0.11)\n",
            "Requirement already satisfied: jupyter-client in /usr/local/lib/python3.10/dist-packages (from ipykernel>=4.5.1->ipywidgets>=7.6.0->ipycytoscape->qc-grader==0.18.8) (6.1.12)\n",
            "Requirement already satisfied: tornado>=4.2 in /usr/local/lib/python3.10/dist-packages (from ipykernel>=4.5.1->ipywidgets>=7.6.0->ipycytoscape->qc-grader==0.18.8) (6.3.3)\n",
            "Requirement already satisfied: setuptools>=18.5 in /usr/local/lib/python3.10/dist-packages (from ipython>=4.0.0->ipywidgets>=7.6.0->ipycytoscape->qc-grader==0.18.8) (67.7.2)\n",
            "Collecting jedi>=0.16 (from ipython>=4.0.0->ipywidgets>=7.6.0->ipycytoscape->qc-grader==0.18.8)\n",
            "  Downloading jedi-0.19.1-py2.py3-none-any.whl (1.6 MB)\n",
            "\u001b[2K     \u001b[90m━━━━━━━━━━━━━━━━━━━━━━━━━━━━━━━━━━━━━━━━\u001b[0m \u001b[32m1.6/1.6 MB\u001b[0m \u001b[31m70.3 MB/s\u001b[0m eta \u001b[36m0:00:00\u001b[0m\n",
            "\u001b[?25hRequirement already satisfied: decorator in /usr/local/lib/python3.10/dist-packages (from ipython>=4.0.0->ipywidgets>=7.6.0->ipycytoscape->qc-grader==0.18.8) (4.4.2)\n",
            "Requirement already satisfied: pickleshare in /usr/local/lib/python3.10/dist-packages (from ipython>=4.0.0->ipywidgets>=7.6.0->ipycytoscape->qc-grader==0.18.8) (0.7.5)\n",
            "Requirement already satisfied: prompt-toolkit!=3.0.0,!=3.0.1,<3.1.0,>=2.0.0 in /usr/local/lib/python3.10/dist-packages (from ipython>=4.0.0->ipywidgets>=7.6.0->ipycytoscape->qc-grader==0.18.8) (3.0.45)\n",
            "Requirement already satisfied: pygments in /usr/local/lib/python3.10/dist-packages (from ipython>=4.0.0->ipywidgets>=7.6.0->ipycytoscape->qc-grader==0.18.8) (2.16.1)\n",
            "Requirement already satisfied: backcall in /usr/local/lib/python3.10/dist-packages (from ipython>=4.0.0->ipywidgets>=7.6.0->ipycytoscape->qc-grader==0.18.8) (0.2.0)\n",
            "Requirement already satisfied: matplotlib-inline in /usr/local/lib/python3.10/dist-packages (from ipython>=4.0.0->ipywidgets>=7.6.0->ipycytoscape->qc-grader==0.18.8) (0.1.7)\n",
            "Requirement already satisfied: pexpect>4.3 in /usr/local/lib/python3.10/dist-packages (from ipython>=4.0.0->ipywidgets>=7.6.0->ipycytoscape->qc-grader==0.18.8) (4.9.0)\n",
            "Requirement already satisfied: notebook>=4.4.1 in /usr/local/lib/python3.10/dist-packages (from widgetsnbextension~=3.6.0->ipywidgets>=7.6.0->ipycytoscape->qc-grader==0.18.8) (6.5.5)\n",
            "Requirement already satisfied: parso<0.9.0,>=0.8.3 in /usr/local/lib/python3.10/dist-packages (from jedi>=0.16->ipython>=4.0.0->ipywidgets>=7.6.0->ipycytoscape->qc-grader==0.18.8) (0.8.4)\n",
            "Requirement already satisfied: jinja2 in /usr/local/lib/python3.10/dist-packages (from notebook>=4.4.1->widgetsnbextension~=3.6.0->ipywidgets>=7.6.0->ipycytoscape->qc-grader==0.18.8) (3.1.4)\n",
            "Requirement already satisfied: pyzmq<25,>=17 in /usr/local/lib/python3.10/dist-packages (from notebook>=4.4.1->widgetsnbextension~=3.6.0->ipywidgets>=7.6.0->ipycytoscape->qc-grader==0.18.8) (24.0.1)\n",
            "Requirement already satisfied: argon2-cffi in /usr/local/lib/python3.10/dist-packages (from notebook>=4.4.1->widgetsnbextension~=3.6.0->ipywidgets>=7.6.0->ipycytoscape->qc-grader==0.18.8) (23.1.0)\n",
            "Requirement already satisfied: jupyter-core>=4.6.1 in /usr/local/lib/python3.10/dist-packages (from notebook>=4.4.1->widgetsnbextension~=3.6.0->ipywidgets>=7.6.0->ipycytoscape->qc-grader==0.18.8) (5.7.2)\n",
            "Requirement already satisfied: nbformat in /usr/local/lib/python3.10/dist-packages (from notebook>=4.4.1->widgetsnbextension~=3.6.0->ipywidgets>=7.6.0->ipycytoscape->qc-grader==0.18.8) (5.10.4)\n",
            "Requirement already satisfied: nbconvert>=5 in /usr/local/lib/python3.10/dist-packages (from notebook>=4.4.1->widgetsnbextension~=3.6.0->ipywidgets>=7.6.0->ipycytoscape->qc-grader==0.18.8) (6.5.4)\n",
            "Requirement already satisfied: nest-asyncio>=1.5 in /usr/local/lib/python3.10/dist-packages (from notebook>=4.4.1->widgetsnbextension~=3.6.0->ipywidgets>=7.6.0->ipycytoscape->qc-grader==0.18.8) (1.6.0)\n",
            "Requirement already satisfied: Send2Trash>=1.8.0 in /usr/local/lib/python3.10/dist-packages (from notebook>=4.4.1->widgetsnbextension~=3.6.0->ipywidgets>=7.6.0->ipycytoscape->qc-grader==0.18.8) (1.8.3)\n",
            "Requirement already satisfied: terminado>=0.8.3 in /usr/local/lib/python3.10/dist-packages (from notebook>=4.4.1->widgetsnbextension~=3.6.0->ipywidgets>=7.6.0->ipycytoscape->qc-grader==0.18.8) (0.18.1)\n",
            "Requirement already satisfied: prometheus-client in /usr/local/lib/python3.10/dist-packages (from notebook>=4.4.1->widgetsnbextension~=3.6.0->ipywidgets>=7.6.0->ipycytoscape->qc-grader==0.18.8) (0.20.0)\n",
            "Requirement already satisfied: nbclassic>=0.4.7 in /usr/local/lib/python3.10/dist-packages (from notebook>=4.4.1->widgetsnbextension~=3.6.0->ipywidgets>=7.6.0->ipycytoscape->qc-grader==0.18.8) (1.1.0)\n",
            "Requirement already satisfied: python-dateutil>=2.1 in /usr/local/lib/python3.10/dist-packages (from jupyter-client->ipykernel>=4.5.1->ipywidgets>=7.6.0->ipycytoscape->qc-grader==0.18.8) (2.8.2)\n",
            "Requirement already satisfied: ptyprocess>=0.5 in /usr/local/lib/python3.10/dist-packages (from pexpect>4.3->ipython>=4.0.0->ipywidgets>=7.6.0->ipycytoscape->qc-grader==0.18.8) (0.7.0)\n",
            "Requirement already satisfied: wcwidth in /usr/local/lib/python3.10/dist-packages (from prompt-toolkit!=3.0.0,!=3.0.1,<3.1.0,>=2.0.0->ipython>=4.0.0->ipywidgets>=7.6.0->ipycytoscape->qc-grader==0.18.8) (0.2.13)\n",
            "Requirement already satisfied: platformdirs>=2.5 in /usr/local/lib/python3.10/dist-packages (from jupyter-core>=4.6.1->notebook>=4.4.1->widgetsnbextension~=3.6.0->ipywidgets>=7.6.0->ipycytoscape->qc-grader==0.18.8) (4.2.2)\n",
            "Requirement already satisfied: notebook-shim>=0.2.3 in /usr/local/lib/python3.10/dist-packages (from nbclassic>=0.4.7->notebook>=4.4.1->widgetsnbextension~=3.6.0->ipywidgets>=7.6.0->ipycytoscape->qc-grader==0.18.8) (0.2.4)\n",
            "Requirement already satisfied: lxml in /usr/local/lib/python3.10/dist-packages (from nbconvert>=5->notebook>=4.4.1->widgetsnbextension~=3.6.0->ipywidgets>=7.6.0->ipycytoscape->qc-grader==0.18.8) (4.9.4)\n",
            "Requirement already satisfied: beautifulsoup4 in /usr/local/lib/python3.10/dist-packages (from nbconvert>=5->notebook>=4.4.1->widgetsnbextension~=3.6.0->ipywidgets>=7.6.0->ipycytoscape->qc-grader==0.18.8) (4.12.3)\n",
            "Requirement already satisfied: bleach in /usr/local/lib/python3.10/dist-packages (from nbconvert>=5->notebook>=4.4.1->widgetsnbextension~=3.6.0->ipywidgets>=7.6.0->ipycytoscape->qc-grader==0.18.8) (6.1.0)\n",
            "Requirement already satisfied: defusedxml in /usr/local/lib/python3.10/dist-packages (from nbconvert>=5->notebook>=4.4.1->widgetsnbextension~=3.6.0->ipywidgets>=7.6.0->ipycytoscape->qc-grader==0.18.8) (0.7.1)\n",
            "Requirement already satisfied: entrypoints>=0.2.2 in /usr/local/lib/python3.10/dist-packages (from nbconvert>=5->notebook>=4.4.1->widgetsnbextension~=3.6.0->ipywidgets>=7.6.0->ipycytoscape->qc-grader==0.18.8) (0.4)\n",
            "Requirement already satisfied: jupyterlab-pygments in /usr/local/lib/python3.10/dist-packages (from nbconvert>=5->notebook>=4.4.1->widgetsnbextension~=3.6.0->ipywidgets>=7.6.0->ipycytoscape->qc-grader==0.18.8) (0.3.0)\n",
            "Requirement already satisfied: MarkupSafe>=2.0 in /usr/local/lib/python3.10/dist-packages (from nbconvert>=5->notebook>=4.4.1->widgetsnbextension~=3.6.0->ipywidgets>=7.6.0->ipycytoscape->qc-grader==0.18.8) (2.1.5)\n",
            "Requirement already satisfied: mistune<2,>=0.8.1 in /usr/local/lib/python3.10/dist-packages (from nbconvert>=5->notebook>=4.4.1->widgetsnbextension~=3.6.0->ipywidgets>=7.6.0->ipycytoscape->qc-grader==0.18.8) (0.8.4)\n",
            "Requirement already satisfied: nbclient>=0.5.0 in /usr/local/lib/python3.10/dist-packages (from nbconvert>=5->notebook>=4.4.1->widgetsnbextension~=3.6.0->ipywidgets>=7.6.0->ipycytoscape->qc-grader==0.18.8) (0.10.0)\n",
            "Requirement already satisfied: pandocfilters>=1.4.1 in /usr/local/lib/python3.10/dist-packages (from nbconvert>=5->notebook>=4.4.1->widgetsnbextension~=3.6.0->ipywidgets>=7.6.0->ipycytoscape->qc-grader==0.18.8) (1.5.1)\n",
            "Requirement already satisfied: tinycss2 in /usr/local/lib/python3.10/dist-packages (from nbconvert>=5->notebook>=4.4.1->widgetsnbextension~=3.6.0->ipywidgets>=7.6.0->ipycytoscape->qc-grader==0.18.8) (1.3.0)\n",
            "Requirement already satisfied: fastjsonschema>=2.15 in /usr/local/lib/python3.10/dist-packages (from nbformat->notebook>=4.4.1->widgetsnbextension~=3.6.0->ipywidgets>=7.6.0->ipycytoscape->qc-grader==0.18.8) (2.19.1)\n",
            "Requirement already satisfied: jsonschema>=2.6 in /usr/local/lib/python3.10/dist-packages (from nbformat->notebook>=4.4.1->widgetsnbextension~=3.6.0->ipywidgets>=7.6.0->ipycytoscape->qc-grader==0.18.8) (4.19.2)\n",
            "Requirement already satisfied: six>=1.5 in /usr/local/lib/python3.10/dist-packages (from python-dateutil>=2.1->jupyter-client->ipykernel>=4.5.1->ipywidgets>=7.6.0->ipycytoscape->qc-grader==0.18.8) (1.16.0)\n",
            "Requirement already satisfied: argon2-cffi-bindings in /usr/local/lib/python3.10/dist-packages (from argon2-cffi->notebook>=4.4.1->widgetsnbextension~=3.6.0->ipywidgets>=7.6.0->ipycytoscape->qc-grader==0.18.8) (21.2.0)\n",
            "Requirement already satisfied: attrs>=22.2.0 in /usr/local/lib/python3.10/dist-packages (from jsonschema>=2.6->nbformat->notebook>=4.4.1->widgetsnbextension~=3.6.0->ipywidgets>=7.6.0->ipycytoscape->qc-grader==0.18.8) (23.2.0)\n",
            "Requirement already satisfied: jsonschema-specifications>=2023.03.6 in /usr/local/lib/python3.10/dist-packages (from jsonschema>=2.6->nbformat->notebook>=4.4.1->widgetsnbextension~=3.6.0->ipywidgets>=7.6.0->ipycytoscape->qc-grader==0.18.8) (2023.12.1)\n",
            "Requirement already satisfied: referencing>=0.28.4 in /usr/local/lib/python3.10/dist-packages (from jsonschema>=2.6->nbformat->notebook>=4.4.1->widgetsnbextension~=3.6.0->ipywidgets>=7.6.0->ipycytoscape->qc-grader==0.18.8) (0.35.1)\n",
            "Requirement already satisfied: rpds-py>=0.7.1 in /usr/local/lib/python3.10/dist-packages (from jsonschema>=2.6->nbformat->notebook>=4.4.1->widgetsnbextension~=3.6.0->ipywidgets>=7.6.0->ipycytoscape->qc-grader==0.18.8) (0.18.1)\n",
            "Requirement already satisfied: jupyter-server<3,>=1.8 in /usr/local/lib/python3.10/dist-packages (from notebook-shim>=0.2.3->nbclassic>=0.4.7->notebook>=4.4.1->widgetsnbextension~=3.6.0->ipywidgets>=7.6.0->ipycytoscape->qc-grader==0.18.8) (1.24.0)\n",
            "Requirement already satisfied: cffi>=1.0.1 in /usr/local/lib/python3.10/dist-packages (from argon2-cffi-bindings->argon2-cffi->notebook>=4.4.1->widgetsnbextension~=3.6.0->ipywidgets>=7.6.0->ipycytoscape->qc-grader==0.18.8) (1.16.0)\n",
            "Requirement already satisfied: soupsieve>1.2 in /usr/local/lib/python3.10/dist-packages (from beautifulsoup4->nbconvert>=5->notebook>=4.4.1->widgetsnbextension~=3.6.0->ipywidgets>=7.6.0->ipycytoscape->qc-grader==0.18.8) (2.5)\n",
            "Requirement already satisfied: webencodings in /usr/local/lib/python3.10/dist-packages (from bleach->nbconvert>=5->notebook>=4.4.1->widgetsnbextension~=3.6.0->ipywidgets>=7.6.0->ipycytoscape->qc-grader==0.18.8) (0.5.1)\n",
            "Requirement already satisfied: pycparser in /usr/local/lib/python3.10/dist-packages (from cffi>=1.0.1->argon2-cffi-bindings->argon2-cffi->notebook>=4.4.1->widgetsnbextension~=3.6.0->ipywidgets>=7.6.0->ipycytoscape->qc-grader==0.18.8) (2.22)\n",
            "Requirement already satisfied: anyio<4,>=3.1.0 in /usr/local/lib/python3.10/dist-packages (from jupyter-server<3,>=1.8->notebook-shim>=0.2.3->nbclassic>=0.4.7->notebook>=4.4.1->widgetsnbextension~=3.6.0->ipywidgets>=7.6.0->ipycytoscape->qc-grader==0.18.8) (3.7.1)\n",
            "Requirement already satisfied: websocket-client in /usr/local/lib/python3.10/dist-packages (from jupyter-server<3,>=1.8->notebook-shim>=0.2.3->nbclassic>=0.4.7->notebook>=4.4.1->widgetsnbextension~=3.6.0->ipywidgets>=7.6.0->ipycytoscape->qc-grader==0.18.8) (1.8.0)\n",
            "Requirement already satisfied: idna>=2.8 in /usr/local/lib/python3.10/dist-packages (from anyio<4,>=3.1.0->jupyter-server<3,>=1.8->notebook-shim>=0.2.3->nbclassic>=0.4.7->notebook>=4.4.1->widgetsnbextension~=3.6.0->ipywidgets>=7.6.0->ipycytoscape->qc-grader==0.18.8) (3.7)\n",
            "Requirement already satisfied: sniffio>=1.1 in /usr/local/lib/python3.10/dist-packages (from anyio<4,>=3.1.0->jupyter-server<3,>=1.8->notebook-shim>=0.2.3->nbclassic>=0.4.7->notebook>=4.4.1->widgetsnbextension~=3.6.0->ipywidgets>=7.6.0->ipycytoscape->qc-grader==0.18.8) (1.3.1)\n",
            "Requirement already satisfied: exceptiongroup in /usr/local/lib/python3.10/dist-packages (from anyio<4,>=3.1.0->jupyter-server<3,>=1.8->notebook-shim>=0.2.3->nbclassic>=0.4.7->notebook>=4.4.1->widgetsnbextension~=3.6.0->ipywidgets>=7.6.0->ipycytoscape->qc-grader==0.18.8) (1.2.1)\n",
            "Building wheels for collected packages: qc-grader\n",
            "  Building wheel for qc-grader (setup.py) ... \u001b[?25l\u001b[?25hdone\n",
            "  Created wheel for qc-grader: filename=qc_grader-0.18.8-py3-none-any.whl size=35617 sha256=fafb4032ddd7ebba0c823e2d15727816f94743b841884ad38b52f6f5be874bd5\n",
            "  Stored in directory: /tmp/pip-ephem-wheel-cache-ps9hc25i/wheels/7e/67/91/88d6a5b4dd4beb318ed4e79c807e2be98b7d3c2ea66565a116\n",
            "Successfully built qc-grader\n",
            "Installing collected packages: typeguard, spectate, networkx, jsonpickle, jedi, ipycytoscape, qc-grader\n",
            "  Attempting uninstall: networkx\n",
            "    Found existing installation: networkx 3.3\n",
            "    Uninstalling networkx-3.3:\n",
            "      Successfully uninstalled networkx-3.3\n",
            "  Attempting uninstall: jsonpickle\n",
            "    Found existing installation: jsonpickle 3.0.4\n",
            "    Uninstalling jsonpickle-3.0.4:\n",
            "      Successfully uninstalled jsonpickle-3.0.4\n",
            "\u001b[31mERROR: pip's dependency resolver does not currently take into account all the packages that are installed. This behaviour is the source of the following dependency conflicts.\n",
            "torch 2.3.0+cu121 requires nvidia-cublas-cu12==12.1.3.1; platform_system == \"Linux\" and platform_machine == \"x86_64\", which is not installed.\n",
            "torch 2.3.0+cu121 requires nvidia-cuda-cupti-cu12==12.1.105; platform_system == \"Linux\" and platform_machine == \"x86_64\", which is not installed.\n",
            "torch 2.3.0+cu121 requires nvidia-cuda-nvrtc-cu12==12.1.105; platform_system == \"Linux\" and platform_machine == \"x86_64\", which is not installed.\n",
            "torch 2.3.0+cu121 requires nvidia-cuda-runtime-cu12==12.1.105; platform_system == \"Linux\" and platform_machine == \"x86_64\", which is not installed.\n",
            "torch 2.3.0+cu121 requires nvidia-cudnn-cu12==8.9.2.26; platform_system == \"Linux\" and platform_machine == \"x86_64\", which is not installed.\n",
            "torch 2.3.0+cu121 requires nvidia-cufft-cu12==11.0.2.54; platform_system == \"Linux\" and platform_machine == \"x86_64\", which is not installed.\n",
            "torch 2.3.0+cu121 requires nvidia-curand-cu12==10.3.2.106; platform_system == \"Linux\" and platform_machine == \"x86_64\", which is not installed.\n",
            "torch 2.3.0+cu121 requires nvidia-cusolver-cu12==11.4.5.107; platform_system == \"Linux\" and platform_machine == \"x86_64\", which is not installed.\n",
            "torch 2.3.0+cu121 requires nvidia-cusparse-cu12==12.1.0.106; platform_system == \"Linux\" and platform_machine == \"x86_64\", which is not installed.\n",
            "torch 2.3.0+cu121 requires nvidia-nccl-cu12==2.20.5; platform_system == \"Linux\" and platform_machine == \"x86_64\", which is not installed.\n",
            "torch 2.3.0+cu121 requires nvidia-nvtx-cu12==12.1.105; platform_system == \"Linux\" and platform_machine == \"x86_64\", which is not installed.\u001b[0m\u001b[31m\n",
            "\u001b[0mSuccessfully installed ipycytoscape-1.3.3 jedi-0.19.1 jsonpickle-3.0.3 networkx-3.2.1 qc-grader-0.18.8 spectate-1.0.1 typeguard-4.3.0\n"
          ]
        }
      ]
    },
    {
      "cell_type": "code",
      "source": [
        "### CHECK QISKIT VERSION\n",
        "import qiskit\n",
        "qiskit.__version__"
      ],
      "metadata": {
        "colab": {
          "base_uri": "https://localhost:8080/",
          "height": 36
        },
        "id": "xQJdArnHOI_X",
        "outputId": "a086ee6e-49e0-4460-a262-a4be74c853c8"
      },
      "execution_count": null,
      "outputs": [
        {
          "output_type": "execute_result",
          "data": {
            "text/plain": [
              "'1.0.2'"
            ],
            "application/vnd.google.colaboratory.intrinsic+json": {
              "type": "string"
            }
          },
          "metadata": {},
          "execution_count": 5
        }
      ]
    },
    {
      "cell_type": "code",
      "source": [
        "### CHECK OTHER DEPENDENCIES\n",
        "!pip show pylatexenc matplotlib qc_grader\n",
        "\n",
        "#qc-grader should be 0.18.8 (or higher)"
      ],
      "metadata": {
        "colab": {
          "base_uri": "https://localhost:8080/"
        },
        "id": "QhEI1g9eONIP",
        "outputId": "db2378e4-5695-491f-bab9-40db174cea8d"
      },
      "execution_count": null,
      "outputs": [
        {
          "output_type": "stream",
          "name": "stdout",
          "text": [
            "Name: pylatexenc\n",
            "Version: 2.10\n",
            "Summary: Simple LaTeX parser providing latex-to-unicode and unicode-to-latex conversion\n",
            "Home-page: https://github.com/phfaist/pylatexenc\n",
            "Author: Philippe Faist\n",
            "Author-email: philippe.faist@bluewin.ch\n",
            "License: MIT\n",
            "Location: /usr/local/lib/python3.10/dist-packages\n",
            "Requires: \n",
            "Required-by: \n",
            "---\n",
            "Name: matplotlib\n",
            "Version: 3.7.1\n",
            "Summary: Python plotting package\n",
            "Home-page: https://matplotlib.org\n",
            "Author: John D. Hunter, Michael Droettboom\n",
            "Author-email: matplotlib-users@python.org\n",
            "License: PSF\n",
            "Location: /usr/local/lib/python3.10/dist-packages\n",
            "Requires: contourpy, cycler, fonttools, kiwisolver, numpy, packaging, pillow, pyparsing, python-dateutil\n",
            "Required-by: arviz, bigframes, datascience, fastai, geemap, imgaug, matplotlib-venn, missingno, mizani, mlxtend, music21, plotnine, prophet, pycocotools, seaborn, wordcloud, yellowbrick\n",
            "---\n",
            "Name: qc-grader\n",
            "Version: 0.18.8\n",
            "Summary: Grading client for the IBM Quantum Challenge\n",
            "Home-page: https://quantum.ibm.com/\n",
            "Author: IBM Quantum Community Team\n",
            "Author-email: \n",
            "License: Apache 2.0\n",
            "Location: /usr/local/lib/python3.10/dist-packages\n",
            "Requires: ipycytoscape, jsonpickle, networkx, plotly, typeguard\n",
            "Required-by: \n"
          ]
        }
      ]
    },
    {
      "cell_type": "code",
      "source": [
        "%set_env QXToken=2dad4afe8e00693c1664e830bbdbf68510cdceddb8b56a140dd35ce0947602494fc318c40bb3502263bf05cfa9f155d28af55d635737f4bff028b3b593a46042"
      ],
      "metadata": {
        "colab": {
          "base_uri": "https://localhost:8080/"
        },
        "id": "0jE_gUiiOktb",
        "outputId": "06710719-6350-4a62-ecca-bb06613803f7"
      },
      "execution_count": null,
      "outputs": [
        {
          "output_type": "stream",
          "name": "stdout",
          "text": [
            "env: QXToken=2dad4afe8e00693c1664e830bbdbf68510cdceddb8b56a140dd35ce0947602494fc318c40bb3502263bf05cfa9f155d28af55d635737f4bff028b3b593a46042\n"
          ]
        }
      ]
    },
    {
      "cell_type": "code",
      "source": [
        "### Imports\n",
        "\n",
        "from qiskit import QuantumCircuit\n",
        "from qiskit.quantum_info import SparsePauliOp\n",
        "from qiskit_ibm_runtime import EstimatorV2 as Estimator\n",
        "from qiskit_aer import AerSimulator\n",
        "import matplotlib.pyplot as plt\n",
        "from qc_grader.challenges.iqc_2024 import grade_lab0_ex1"
      ],
      "metadata": {
        "id": "xA4zFzpDOtCS"
      },
      "execution_count": null,
      "outputs": []
    },
    {
      "cell_type": "code",
      "source": [
        "# Create a new circuit with two qubits\n",
        "qc = QuantumCircuit(2)\n",
        "\n",
        "# Add a Hadamard gate to qubit 0\n",
        "qc.h(0)\n",
        "\n",
        "# Perform a CNOT gate on qubit 1, controlled by qubit 0\n",
        "qc.cx(0, 1)\n",
        "\n",
        "# Return a drawing of the circuit using MatPlotLib (\"mpl\"). This is the\n",
        "# last line of the cell, so the drawing appears in the cell output.\n",
        "qc.draw(\"mpl\")"
      ],
      "metadata": {
        "colab": {
          "base_uri": "https://localhost:8080/",
          "height": 191
        },
        "id": "3AgKY90OOvhx",
        "outputId": "54076d44-dcc6-4573-bfa5-5f5d152291e9"
      },
      "execution_count": null,
      "outputs": [
        {
          "output_type": "execute_result",
          "data": {
            "text/plain": [
              "<Figure size 287.294x200.667 with 1 Axes>"
            ],
            "image/png": "[encoded data removed]"
          },
          "metadata": {},
          "execution_count": 9
        }
      ]
    },
    {
      "cell_type": "markdown",
      "source": [
        "![image.png](data:image/png;base64,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)"
      ],
      "metadata": {
        "id": "Ko_XYxcAuG3a"
      }
    },
    {
      "cell_type": "code",
      "source": [
        "# The ZZ applies a Z operator on qubit 0, and a Z operator on qubit 1\n",
        "ZZ = SparsePauliOp('ZZ')\n",
        "\n",
        "# The ZI applies a Z operator on qubit 0, and an Identity operator on qubit 1\n",
        "ZI = SparsePauliOp('ZI')\n",
        "\n",
        "# The IX applies an Identity operator on qubit 0, and an X operator on qubit 1\n",
        "IX = SparsePauliOp('IX')\n",
        "\n",
        "\n",
        "\n",
        "### Write your code below here ###\n",
        "### Follow the same naming convention we used above\n",
        "# The IZ applies an Identity operator on qubit 0, and an Z operator on qubit 1\n",
        "IZ = SparsePauliOp('IZ')\n",
        "# The XX applies an X operator on qubit 0, and an X operator on qubit 1\n",
        "XX = SparsePauliOp('XX')\n",
        "# The XI applies an X operator on qubit 0, and an Identity operator on qubit 1\n",
        "XI = SparsePauliOp('XI')\n",
        "\n",
        "## Don't change any code past this line, but remember to run the cell.\n",
        "\n",
        "observables = [IZ, IX, ZI, XI, ZZ, XX]"
      ],
      "metadata": {
        "id": "pdmFf3j4OzTo"
      },
      "execution_count": null,
      "outputs": []
    },
    {
      "cell_type": "code",
      "source": [
        "grade_lab0_ex1(observables)"
      ],
      "metadata": {
        "colab": {
          "base_uri": "https://localhost:8080/"
        },
        "id": "REQdZ6juP3Rp",
        "outputId": "451e4815-78a0-4a89-9a83-4d5442e1ee7d"
      },
      "execution_count": null,
      "outputs": [
        {
          "output_type": "stream",
          "name": "stdout",
          "text": [
            "Submitting your answer. Please wait...\n",
            "Congratulations 🎉! Your answer is correct and has been submitted.\n"
          ]
        }
      ]
    },
    {
      "cell_type": "code",
      "source": [
        "# Set up the Estimator\n",
        "estimator = Estimator(backend=AerSimulator())\n",
        "\n",
        "# Submit the circuit to Estimator\n",
        "pub = (qc, observables)\n",
        "\n",
        "job = estimator.run(pubs=[pub])"
      ],
      "metadata": {
        "id": "5TGgUNc9P6EF"
      },
      "execution_count": null,
      "outputs": []
    },
    {
      "cell_type": "code",
      "source": [
        "# Collect the data\n",
        "data = ['IZ', 'IX', 'ZI', 'XI', 'ZZ', 'XX']\n",
        "values = job.result()[0].data.evs\n",
        "\n",
        "# Set up our graph\n",
        "container = plt.plot(data, values, '-o')\n",
        "\n",
        "# Label each axis\n",
        "plt.xlabel('Observables')\n",
        "plt.ylabel('Values')\n",
        "\n",
        "# Draw the final graph\n",
        "plt.show()"
      ],
      "metadata": {
        "colab": {
          "base_uri": "https://localhost:8080/",
          "height": 449
        },
        "id": "AfSTD-PBP_hQ",
        "outputId": "e8788e8a-fa53-4d79-dfab-6ce501437679"
      },
      "execution_count": null,
      "outputs": [
        {
          "output_type": "display_data",
          "data": {
            "text/plain": [
              "<Figure size 640x480 with 1 Axes>"
            ],
            "image/png": "[encoded data removed]"
          },
          "metadata": {}
        }
      ]
    },
    {
      "cell_type": "code",
      "source": [
        "container = plt.bar(data, values, width=0.8)\n",
        "\n",
        "plt.xlabel('Observables')\n",
        "plt.ylabel('Values')\n",
        "\n",
        "plt.show()"
      ],
      "metadata": {
        "colab": {
          "base_uri": "https://localhost:8080/",
          "height": 449
        },
        "id": "caKc751tQIJu",
        "outputId": "e22e6463-71b8-49d1-d0ec-c2cf31bb86f3"
      },
      "execution_count": null,
      "outputs": [
        {
          "output_type": "display_data",
          "data": {
            "text/plain": [
              "<Figure size 640x480 with 1 Axes>"
            ],
            "image/png": "[encoded data removed]"
          },
          "metadata": {}
        }
      ]
    },
    {
      "cell_type": "code",
      "source": [],
      "metadata": {
        "id": "N72PVhnCQLkK"
      },
      "execution_count": null,
      "outputs": []
    }
  ]
}